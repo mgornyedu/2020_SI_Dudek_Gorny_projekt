{
  "cells": [
    {
      "metadata": {
        "trusted": true,
        "scrolled": true
      },
      "cell_type": "code",
      "source": "!pip install https://github.com/CenterForTheBuiltEnvironment/pythermalcomfort/archive/master.zip",
      "execution_count": 1,
      "outputs": [
        {
          "output_type": "stream",
          "text": "Collecting https://github.com/CenterForTheBuiltEnvironment/pythermalcomfort/archive/master.zip\n\u001b[?25l  Downloading https://github.com/CenterForTheBuiltEnvironment/pythermalcomfort/archive/master.zip\n\u001b[K     - 215kB 5.4MB/s\n\u001b[?25hBuilding wheels for collected packages: pythermalcomfort\n  Building wheel for pythermalcomfort (setup.py) ... \u001b[?25ldone\n\u001b[?25h  Created wheel for pythermalcomfort: filename=pythermalcomfort-1.0.2-py2.py3-none-any.whl size=27449 sha256=b7dda9c49316445f8c90937d3265b3b18b8dd8b6c94d59e3f6d4a2cb141bc0da\n  Stored in directory: /tmp/pip-ephem-wheel-cache-1v2e4547/wheels/3e/c0/a8/44298b11f53ceaf25bb41af85b0b984e203aa79a10410566c9\nSuccessfully built pythermalcomfort\nInstalling collected packages: pythermalcomfort\nSuccessfully installed pythermalcomfort-1.0.2\n\u001b[33mWARNING: You are using pip version 19.3.1; however, version 20.1.1 is available.\nYou should consider upgrading via the 'pip install --upgrade pip' command.\u001b[0m\n",
          "name": "stdout"
        }
      ]
    },
    {
      "metadata": {
        "trusted": true
      },
      "cell_type": "code",
      "source": "from keras.models import Sequential\nfrom keras.layers import Dense\nfrom keras.layers import Dropout\nfrom keras.layers import Conv1D, Flatten, MaxPooling1D\nimport tensorflow as tf\nimport numpy as np\nfrom numpy import genfromtxt\nimport pandas as pd \nfrom sklearn.model_selection import train_test_split\nfrom sklearn.preprocessing import StandardScaler\nfrom sklearn.preprocessing import PolynomialFeatures\nfrom pythermalcomfort.models import pmv\nimport warnings\nimport matplotlib.pyplot as plt\nfrom sklearn.metrics import confusion_matrix\nimport numpy as np\nfrom sklearn.metrics import accuracy_score\nfrom sklearn.metrics import balanced_accuracy_score\nwarnings.simplefilter(\"ignore\")",
      "execution_count": 127,
      "outputs": []
    },
    {
      "metadata": {
        "trusted": true
      },
      "cell_type": "code",
      "source": "val = [-1, 0, 1]\n#Funkcja przetwarzająca ocenę klas na konkretną etykietę\ndef createLabel(y_score):\n    _y_pred = [];\n    for pred in y_score:\n        _y_pred.append(val[np.argmax(pred)])\n    return _y_pred;\n\n#Funckja wyświetlająca macierz pomyłek\ndef confMatrix(y_test_class, y_pred):\n    _cm = confusion_matrix(y_test_class, y_pred)\n\n    _cm_sum = np.sum(_cm, axis=1, keepdims=True)\n    _cm_perc = _cm / _cm_sum.astype(float) * 100\n\n    plt.imshow(_cm_perc, cmap=plt.cm.Blues)\n    plt.xlabel(\"Wartości przewidywane\")\n    plt.ylabel(\"Wartości rzeczywiste\")\n    plt.xticks([0,1,2], [-1,0,1])\n    plt.yticks([0,1,2], [-1,0,1])\n    plt.gca().xaxis.tick_top()\n    plt.gca().xaxis.set_label_position('top') \n\n    for y in range(3):\n        for x in range(3):\n            plt.text(x, y, '%d ' % _cm[y, x],\n                    horizontalalignment='center',\n                    verticalalignment='center', color=('White' if _cm_perc[y,x] > 50 else 'Black'))\n\n\n    plt.title('Macierz pomyłek')\n    plt.colorbar()\n    plt.show()",
      "execution_count": 3,
      "outputs": []
    },
    {
      "metadata": {
        "trusted": true
      },
      "cell_type": "code",
      "source": "#funkcja oceniająca model pod kątem wskaźnika PMV\ndef PMVEvaluate(model, x_test_v, tempIx = 2, vrIx = 4, rhIx = 3):\n    i = 0\n    i2 = 0\n    pos_sum = 0\n    err_sum = 0\n    pmv_data_c = []\n    val = [-1, 0, 1]\n    poly = PolynomialFeatures(interaction_only=True)\n    scaler = StandardScaler()\n    for item in x_test_v:\n        #transformacja pojedynczych próbki do odpowiedniego wymiaru\n        t_item = np.reshape(item, (1, item.shape[0]))\n        scaler.fit(t_item)\n        t_item = poly.fit_transform(t_item)\n        \n        #wyznaczenie predykcji poszczególnych klas\n        pred = model.predict(np.reshape(t_item, (1,t_item.shape[1], 1)));\n        #przetworzenie prawdopodobieńst na klasę, oraz przekształcenie jej na zmianę temperatury\n        pred_D_temp_c = val[np.argmax(pred)] * 0.25\n        #wyciągnięcie poprzedniej wartości PMV\n        prevPMV = item[9]\n        \n        #wyliczenie nowej wartości PMV na podstawie poprzednich wartości \n        newPMV = pmv(tdb=item[tempIx]+pred_D_temp_c, tr=item[tempIx]+pred_D_temp_c, vr=item[vrIx], rh=item[rhIx], met=1, clo=0.5)\n        \n        pmv_data_c.append((prevPMV, newPMV, abs(prevPMV) - abs(newPMV),));\n        if( abs(prevPMV) - abs(newPMV) < 0):\n            i+=1\n            err_sum -= abs(newPMV) - abs(prevPMV)\n        else:\n            i2+=1\n            pos_sum -= abs(newPMV) - abs(prevPMV) \n    print(i, (x_test.shape[0] - i) / x_test.shape[0])\n    print(pos_sum/i2)\n    print(err_sum/i)\n    return ",
      "execution_count": 134,
      "outputs": []
    },
    {
      "metadata": {
        "trusted": true
      },
      "cell_type": "code",
      "source": "def getData(name):\n    data = pd.read_csv(name, sep=';') \n    data = data.drop(\"Data pomiaru\", axis=1)\n    target = np.sign(data[\"3-INDOOR Ambient Temp. Δ +1\"]);\n    data.drop(\"3-INDOOR Ambient Temp. Δ +1\", axis=1)\n\n    np_data = np.array(data)\n    np_target = np.array(target)\n    mask = np_data[:, 20] > 0\n    np_target[mask] = np_target[mask]  * -1\n\n    mask1 = (np_target == 0) & (np_data[:, 20] > 0) & (np_data[:, 9] < 0)\n    mask2 = (np_target == 0) & (np_data[:, 20] > 0) & (np_data[:, 9] > 0)\n    np_target[mask1] = 1\n    np_target[mask2] = -1\n\n    data = np_data\n    target = np_target\n\n    poly = PolynomialFeatures(degree = 2, interaction_only=True)\n    scaler = StandardScaler()\n\n    scaler.fit(data)\n    data = poly.fit_transform(data)\n\n    return train_test_split(data, target, np_data, test_size=0.2)",
      "execution_count": 114,
      "outputs": []
    },
    {
      "metadata": {
        "trusted": true
      },
      "cell_type": "code",
      "source": "def prepareClassTarget(train, test):\n    train_class = train\n    test_class = test\n\n    train_c = train + 1\n    test_c = test + 1\n    train_c = np.eye(3)[np.array(train_c, dtype=int)]\n    test_c = np.eye(3)[np.array(test_c, dtype=int)]\n    return (train_c, train_class, test_c, test_class)\n\ndef prepare3dData(train, test):\n    train_3 = np.reshape(train, (train.shape[0], train.shape[1], 1))\n    test_3 = np.reshape(test, (test.shape[0], test.shape[1], 1))\n    return (train_3, test_3)",
      "execution_count": 115,
      "outputs": []
    },
    {
      "metadata": {
        "trusted": true
      },
      "cell_type": "code",
      "source": "x_train, x_test, y_train, y_test, x_train_v, x_test_v = getData(\"DS-Z7.csv\")",
      "execution_count": 116,
      "outputs": []
    },
    {
      "metadata": {
        "trusted": true
      },
      "cell_type": "code",
      "source": "y_train, y_train_class, y_test, y_test_class = prepareClassTarget(y_train, y_test)",
      "execution_count": 117,
      "outputs": []
    },
    {
      "metadata": {
        "trusted": true
      },
      "cell_type": "code",
      "source": "x_train_3, x_test_3 = prepare3dData(x_train, x_test)",
      "execution_count": 118,
      "outputs": []
    },
    {
      "metadata": {
        "trusted": true
      },
      "cell_type": "code",
      "source": "x_train_3.shape",
      "execution_count": 119,
      "outputs": [
        {
          "output_type": "execute_result",
          "execution_count": 119,
          "data": {
            "text/plain": "(19796, 254, 1)"
          },
          "metadata": {}
        }
      ]
    },
    {
      "metadata": {
        "trusted": true
      },
      "cell_type": "code",
      "source": "X = x_train_3\nY = y_train\nmodel_c = Sequential([\n    Conv1D(filters=64, kernel_size=3 ,strides=1,     \n                  batch_input_shape=(None, X.shape[1], 1),kernel_initializer= 'uniform',      \n                  activation= 'relu'),\n    Conv1D(filters=64, kernel_size=3 ,strides=1),\n    MaxPooling1D(),\n    Conv1D(filters=32, kernel_size=3 ,strides=1),\n    Conv1D(filters=32, kernel_size=3 ,strides=1),\n    MaxPooling1D(),\n    Flatten(),\n    Dense(256, activation='relu'),\n    Dense(128, activation='relu'),\n    Dense(64, activation='relu'),\n    Dropout(0.2),\n    Dense(32, activation='relu'),\n    Dense(16, activation='relu'),\n    Dense(3, activation='softmax')\n])\n\nmodel_c.compile(loss='categorical_crossentropy',\n              optimizer='adam',\n              metrics=['accuracy'])\nhistory_c = model_c.fit(X, Y, epochs=5, validation_split=0.1)",
      "execution_count": 123,
      "outputs": [
        {
          "output_type": "stream",
          "text": "Train on 17816 samples, validate on 1980 samples\nEpoch 1/5\n17816/17816 [==============================] - 111s 6ms/step - loss: 0.9759 - accuracy: 0.5919 - val_loss: 0.7608 - val_accuracy: 0.6803\nEpoch 2/5\n17816/17816 [==============================] - 109s 6ms/step - loss: 0.5118 - accuracy: 0.8003 - val_loss: 0.4174 - val_accuracy: 0.8394\nEpoch 3/5\n17816/17816 [==============================] - 108s 6ms/step - loss: 0.2467 - accuracy: 0.9104 - val_loss: 0.1449 - val_accuracy: 0.9475\nEpoch 4/5\n17816/17816 [==============================] - 118s 7ms/step - loss: 0.1160 - accuracy: 0.9608 - val_loss: 0.0752 - val_accuracy: 0.9788\nEpoch 5/5\n17816/17816 [==============================] - 111s 6ms/step - loss: 0.0707 - accuracy: 0.9768 - val_loss: 0.0424 - val_accuracy: 0.9869\n",
          "name": "stdout"
        }
      ]
    },
    {
      "metadata": {
        "trusted": true
      },
      "cell_type": "code",
      "source": "y_pred = createLabel(model_c.predict(x_test_3))\nconfMatrix(y_test_class, y_pred)",
      "execution_count": 131,
      "outputs": [
        {
          "output_type": "display_data",
          "data": {
            "image/png": "[encoded data removed]",
            "text/plain": "<Figure size 432x288 with 2 Axes>"
          },
          "metadata": {
            "needs_background": "light"
          }
        }
      ]
    },
    {
      "metadata": {
        "trusted": true
      },
      "cell_type": "code",
      "source": "PMVEvaluate(model_c, x_test_v)",
      "execution_count": 135,
      "outputs": [
        {
          "output_type": "stream",
          "text": "1101 0.7775757575757576\n0.07461701582229124\n-0.054727234046321585\n",
          "name": "stdout"
        }
      ]
    },
    {
      "metadata": {
        "trusted": true
      },
      "cell_type": "code",
      "source": "print(\"Ogólna precyzja klasyfikacji:\", accuracy_score(y_test_class, y_pred))\nprint(\"Średnia precyzja klasyfikacji:\",balanced_accuracy_score(y_test_class, y_pred))",
      "execution_count": 133,
      "outputs": [
        {
          "output_type": "stream",
          "text": "Ogólna precyzja klasyfikacji: 0.9822222222222222\nŚrednia precyzja klasyfikacji: 0.9657565016324648\n",
          "name": "stdout"
        }
      ]
    },
    {
      "metadata": {},
      "cell_type": "markdown",
      "source": "# TESTY"
    },
    {
      "metadata": {
        "trusted": true
      },
      "cell_type": "code",
      "source": "data = pd.read_csv(\"DS-Z7.csv\", sep=';') \ndata = data.drop(\"Data pomiaru\", axis=1)\ntrain, test = train_test_split(data, test_size=0.2)\n\nfrom sklearn.preprocessing import StandardScaler\nscaler = StandardScaler()\nscaler.fit(data)\n\ny_train =  np.array(train[\"3-INDOOR Ambient Temp. Δ +1\"])\nx_train = np.array(train.drop(\"3-INDOOR Ambient Temp. Δ +1\", axis=1))\ny_test = np.array(test[\"3-INDOOR Ambient Temp. Δ +1\"])\nx_test = np.array(test.drop(\"3-INDOOR Ambient Temp. Δ +1\", axis=1))",
      "execution_count": 30,
      "outputs": []
    },
    {
      "metadata": {
        "trusted": true
      },
      "cell_type": "code",
      "source": "train_c, test_c = train_test_split(data, test_size=0.2)\n\ny_train_c =  np.sign(np.array(train_c[\"3-INDOOR Ambient Temp. Δ +1\"]))\nx_train_c = np.array(train_c.drop(\"3-INDOOR Ambient Temp. Δ +1\", axis=1))\ny_test_c = np.sign(np.array(test_c[\"3-INDOOR Ambient Temp. Δ +1\"]))\nx_test_c = np.array(test_c.drop(\"3-INDOOR Ambient Temp. Δ +1\", axis=1))",
      "execution_count": 46,
      "outputs": []
    },
    {
      "metadata": {
        "trusted": true
      },
      "cell_type": "code",
      "source": "y_train_class = y_train_c\ny_test_class = y_test_c",
      "execution_count": 47,
      "outputs": []
    },
    {
      "metadata": {
        "trusted": true
      },
      "cell_type": "code",
      "source": "y_train_c = y_train_c + 1\ny_test_c = y_test_c + 1",
      "execution_count": 48,
      "outputs": []
    },
    {
      "metadata": {
        "trusted": true
      },
      "cell_type": "code",
      "source": "sum(y_train_c)",
      "execution_count": 50,
      "outputs": [
        {
          "output_type": "execute_result",
          "execution_count": 50,
          "data": {
            "text/plain": "18586.0"
          },
          "metadata": {}
        }
      ]
    },
    {
      "metadata": {
        "trusted": true
      },
      "cell_type": "code",
      "source": "x_train_c.shape",
      "execution_count": 9,
      "outputs": [
        {
          "output_type": "execute_result",
          "execution_count": 9,
          "data": {
            "text/plain": "(19796, 21)"
          },
          "metadata": {}
        }
      ]
    },
    {
      "metadata": {
        "trusted": true
      },
      "cell_type": "code",
      "source": "y_train_c = np.eye(3)[np.array(y_train_c, dtype=int)]\ny_test_c = np.eye(3)[np.array(y_test_c, dtype=int)]",
      "execution_count": 51,
      "outputs": []
    },
    {
      "metadata": {
        "trusted": true
      },
      "cell_type": "code",
      "source": "x_train_c1 = np.reshape(x_train_c, (x_train_c.shape[0], x_train_c.shape[1], 1))\nx_test_c1 = np.reshape(x_test_c, (x_test_c.shape[0], x_test_c.shape[1], 1))",
      "execution_count": 58,
      "outputs": []
    },
    {
      "metadata": {
        "trusted": true
      },
      "cell_type": "code",
      "source": "model_c1 = Sequential([\n    Conv1D(filters=5, kernel_size=3 ,strides=1,     \n                  batch_input_shape=(None, 21, 1),kernel_initializer= 'uniform',      \n                  activation= 'relu'),\n    Conv1D(filters=3, kernel_size=3 ,strides=1),\n    Flatten(),\n    Dense(64, activation='relu'),\n    Dense(64, activation='relu'),\n    Dense(64, activation='relu'),\n    Dense(64, activation='relu'),\n    Dropout(0.2),\n    Dense(32, activation='relu'),\n    Dense(16, activation='relu'),\n    Dense(3, activation='softmax')\n])\n\nmodel_c1.compile(loss='categorical_crossentropy',\n              optimizer='adam',\n              metrics=['accuracy'])\nhistory_c1 = model_c1.fit(x_train_c1, y_train_c, epochs=40, validation_split=0.1)",
      "execution_count": 61,
      "outputs": [
        {
          "output_type": "stream",
          "text": "Train on 17816 samples, validate on 1980 samples\nEpoch 1/40\n17816/17816 [==============================] - 10s 574us/step - loss: 0.9460 - accuracy: 0.5350 - val_loss: 0.8655 - val_accuracy: 0.6293\nEpoch 2/40\n17816/17816 [==============================] - 5s 294us/step - loss: 0.8482 - accuracy: 0.6170 - val_loss: 0.8276 - val_accuracy: 0.6288\nEpoch 3/40\n17816/17816 [==============================] - 5s 304us/step - loss: 0.8191 - accuracy: 0.6269 - val_loss: 0.8291 - val_accuracy: 0.6328\nEpoch 4/40\n17816/17816 [==============================] - 6s 313us/step - loss: 0.8032 - accuracy: 0.6344 - val_loss: 0.7924 - val_accuracy: 0.6379\nEpoch 5/40\n17816/17816 [==============================] - 6s 316us/step - loss: 0.7912 - accuracy: 0.6375 - val_loss: 0.7884 - val_accuracy: 0.6399\nEpoch 6/40\n17816/17816 [==============================] - 5s 297us/step - loss: 0.7810 - accuracy: 0.6424 - val_loss: 0.7812 - val_accuracy: 0.6510\nEpoch 7/40\n17816/17816 [==============================] - 6s 310us/step - loss: 0.7740 - accuracy: 0.6463 - val_loss: 0.7713 - val_accuracy: 0.6510\nEpoch 8/40\n17816/17816 [==============================] - 6s 338us/step - loss: 0.7670 - accuracy: 0.6515 - val_loss: 0.7729 - val_accuracy: 0.6354\nEpoch 9/40\n17816/17816 [==============================] - 5s 300us/step - loss: 0.7626 - accuracy: 0.6531 - val_loss: 0.7641 - val_accuracy: 0.6394\nEpoch 10/40\n17816/17816 [==============================] - 5s 277us/step - loss: 0.7583 - accuracy: 0.6531 - val_loss: 0.7578 - val_accuracy: 0.6535\nEpoch 11/40\n17816/17816 [==============================] - 5s 260us/step - loss: 0.7503 - accuracy: 0.6544 - val_loss: 0.7555 - val_accuracy: 0.6449\nEpoch 12/40\n17816/17816 [==============================] - 5s 280us/step - loss: 0.7501 - accuracy: 0.6531 - val_loss: 0.7518 - val_accuracy: 0.6571\nEpoch 13/40\n17816/17816 [==============================] - 4s 214us/step - loss: 0.7465 - accuracy: 0.6567 - val_loss: 0.7523 - val_accuracy: 0.6449\nEpoch 14/40\n17816/17816 [==============================] - 4s 213us/step - loss: 0.7419 - accuracy: 0.6576 - val_loss: 0.7660 - val_accuracy: 0.6485\nEpoch 15/40\n17816/17816 [==============================] - 4s 231us/step - loss: 0.7375 - accuracy: 0.6615 - val_loss: 0.7442 - val_accuracy: 0.6500\nEpoch 16/40\n17816/17816 [==============================] - 4s 224us/step - loss: 0.7353 - accuracy: 0.6608 - val_loss: 0.7451 - val_accuracy: 0.6621\nEpoch 17/40\n17816/17816 [==============================] - 4s 231us/step - loss: 0.7349 - accuracy: 0.6627 - val_loss: 0.7593 - val_accuracy: 0.6414\nEpoch 18/40\n17816/17816 [==============================] - 5s 255us/step - loss: 0.7265 - accuracy: 0.6651 - val_loss: 0.7493 - val_accuracy: 0.6480\nEpoch 19/40\n17816/17816 [==============================] - 4s 248us/step - loss: 0.7243 - accuracy: 0.6645 - val_loss: 0.7431 - val_accuracy: 0.6551\nEpoch 20/40\n17816/17816 [==============================] - 5s 281us/step - loss: 0.7210 - accuracy: 0.6674 - val_loss: 0.7497 - val_accuracy: 0.6576\nEpoch 21/40\n17816/17816 [==============================] - 5s 296us/step - loss: 0.7205 - accuracy: 0.6714 - val_loss: 0.7549 - val_accuracy: 0.6545\nEpoch 22/40\n17816/17816 [==============================] - 5s 261us/step - loss: 0.7165 - accuracy: 0.6689 - val_loss: 0.7460 - val_accuracy: 0.6586\nEpoch 23/40\n17816/17816 [==============================] - 4s 221us/step - loss: 0.7128 - accuracy: 0.6714 - val_loss: 0.7417 - val_accuracy: 0.6566\nEpoch 24/40\n17816/17816 [==============================] - 4s 242us/step - loss: 0.7115 - accuracy: 0.6746 - val_loss: 0.7362 - val_accuracy: 0.6616\nEpoch 25/40\n17816/17816 [==============================] - 4s 218us/step - loss: 0.7089 - accuracy: 0.6756 - val_loss: 0.7526 - val_accuracy: 0.6505\nEpoch 26/40\n17816/17816 [==============================] - 5s 254us/step - loss: 0.7057 - accuracy: 0.6722 - val_loss: 0.7484 - val_accuracy: 0.6601\nEpoch 27/40\n17816/17816 [==============================] - 4s 233us/step - loss: 0.7073 - accuracy: 0.6720 - val_loss: 0.7506 - val_accuracy: 0.6505\nEpoch 28/40\n17816/17816 [==============================] - 4s 231us/step - loss: 0.7015 - accuracy: 0.6775 - val_loss: 0.7449 - val_accuracy: 0.6591\nEpoch 29/40\n17816/17816 [==============================] - 4s 237us/step - loss: 0.6980 - accuracy: 0.6747 - val_loss: 0.7352 - val_accuracy: 0.6636\nEpoch 30/40\n17816/17816 [==============================] - 4s 214us/step - loss: 0.6942 - accuracy: 0.6801 - val_loss: 0.7353 - val_accuracy: 0.6717\nEpoch 31/40\n17816/17816 [==============================] - 4s 229us/step - loss: 0.6937 - accuracy: 0.6836 - val_loss: 0.7345 - val_accuracy: 0.6586\nEpoch 32/40\n17816/17816 [==============================] - 4s 231us/step - loss: 0.6928 - accuracy: 0.6808 - val_loss: 0.7500 - val_accuracy: 0.6601\nEpoch 33/40\n17816/17816 [==============================] - 5s 285us/step - loss: 0.6889 - accuracy: 0.6831 - val_loss: 0.7499 - val_accuracy: 0.6480\nEpoch 34/40\n17816/17816 [==============================] - 5s 271us/step - loss: 0.6889 - accuracy: 0.6812 - val_loss: 0.7435 - val_accuracy: 0.6556\nEpoch 35/40\n17816/17816 [==============================] - 4s 239us/step - loss: 0.6869 - accuracy: 0.6815 - val_loss: 0.7361 - val_accuracy: 0.6601\nEpoch 36/40\n17816/17816 [==============================] - 5s 278us/step - loss: 0.6772 - accuracy: 0.6857 - val_loss: 0.7360 - val_accuracy: 0.6631\nEpoch 37/40\n17816/17816 [==============================] - 4s 221us/step - loss: 0.6819 - accuracy: 0.6846 - val_loss: 0.7613 - val_accuracy: 0.6520\nEpoch 38/40\n17816/17816 [==============================] - 4s 251us/step - loss: 0.6788 - accuracy: 0.6880 - val_loss: 0.7500 - val_accuracy: 0.6520\nEpoch 39/40\n17816/17816 [==============================] - 4s 228us/step - loss: 0.6772 - accuracy: 0.6870 - val_loss: 0.7651 - val_accuracy: 0.6581\nEpoch 40/40\n17816/17816 [==============================] - 4s 249us/step - loss: 0.6709 - accuracy: 0.6924 - val_loss: 0.7471 - val_accuracy: 0.6591\n",
          "name": "stdout"
        }
      ]
    },
    {
      "metadata": {
        "trusted": true
      },
      "cell_type": "code",
      "source": "y_pred = createLabel(model_c1.predict(x_test_c1))\nconfMatrix(y_test_class, y_pred)",
      "execution_count": 63,
      "outputs": [
        {
          "output_type": "display_data",
          "data": {
            "image/png": "[encoded data removed]",
            "text/plain": "<Figure size 432x288 with 2 Axes>"
          },
          "metadata": {
            "needs_background": "light"
          }
        }
      ]
    },
    {
      "metadata": {
        "trusted": true
      },
      "cell_type": "code",
      "source": "from sklearn.preprocessing import PolynomialFeatures\n\ndata = pd.read_csv(\"DS-Z7.csv\", sep=';') \ndata = data.drop(\"Data pomiaru\", axis=1)\ntarget = np.sign(data[\"3-INDOOR Ambient Temp. Δ +1\"]);\ndata.drop(\"3-INDOOR Ambient Temp. Δ +1\", axis=1)\n\nnp_data = np.array(data)\nnp_target = np.array(target)\nmask = np_data[:, 20] > 0\nnp_target[mask] = np_target[mask]  * -1\n\nmask1 = (np_target == 0) & (np_data[:, 20] > 0) & (np_data[:, 9] < -0.9)\nmask2 = (np_target == 0) & (np_data[:, 20] > 0) & (np_data[:, 9] > 0)\nnp_target[mask1] = 1\nnp_target[mask2] = -1\n\ndata = np_data\ntarget = np_target\n# data = pd.read_csv(\"DS-Z7.csv\", sep=';') \n# data = data.drop(\"Data pomiaru\", axis=1)\n# target = np.sign(data[\"3-INDOOR Ambient Temp. Δ +1\"]);\n# data.drop(\"3-INDOOR Ambient Temp. Δ +1\", axis=1)\n\n\n\nfrom sklearn.preprocessing import StandardScaler\n\npoly = PolynomialFeatures(interaction_only=True)\nscaler = StandardScaler()\n\nscaler.fit(data)\ndata = poly.fit_transform(data)\n\nx_train_c2, x_test_c2, y_train_c2, y_test_c2, x_train_v, x_test_v = train_test_split(data, target, np_data, test_size=0.2)",
      "execution_count": 223,
      "outputs": []
    },
    {
      "metadata": {
        "trusted": true
      },
      "cell_type": "code",
      "source": "y_train_c2_class = y_train_c2\ny_test_c2_class = y_test_c2\n\ny_train_c2 = y_train_c2 + 1\ny_test_c2 = y_test_c2 + 1\ny_train_c2 = np.eye(3)[np.array(y_train_c2, dtype=int)]\ny_test_c2 = np.eye(3)[np.array(y_test_c2, dtype=int)]",
      "execution_count": 226,
      "outputs": []
    },
    {
      "metadata": {
        "trusted": true
      },
      "cell_type": "code",
      "source": "x_train_c2_3 = np.reshape(x_train_c2, (x_train_c2.shape[0], x_train_c2.shape[1], 1))\nx_test_c2_3 = np.reshape(x_test_c2, (x_test_c2.shape[0], x_test_c2.shape[1], 1))",
      "execution_count": 228,
      "outputs": []
    },
    {
      "metadata": {
        "trusted": true
      },
      "cell_type": "code",
      "source": "model_c2 = Sequential([\n#     Conv1D(filters=64, kernel_size=3 ,strides=1,     \n#                   batch_input_shape=(None, 254, 1),kernel_initializer= 'uniform',      \n#                   activation= 'relu'),\n#     Conv1D(filters=32, kernel_size=3 ,strides=1),\n#     Flatten(),\n    Dense(256, activation='relu'),\n    Dense(128, activation='relu'),\n    Dropout(0.2),\n    Dense(32, activation='relu'),\n    Dense(16, activation='relu'),\n    Dense(3, activation='softmax')\n])\n\nmodel_c2.compile(loss='categorical_crossentropy',\n              optimizer='adam',\n              metrics=['accuracy'])\nhistory_c2 = model_c2.fit(x_train_c2, y_train_c2, epochs=30, validation_split=0.1)",
      "execution_count": 238,
      "outputs": [
        {
          "output_type": "stream",
          "text": "Train on 17816 samples, validate on 1980 samples\nEpoch 1/30\n17816/17816 [==============================] - 4s 238us/step - loss: 6.8278 - accuracy: 0.4881 - val_loss: 0.9636 - val_accuracy: 0.5758\nEpoch 2/30\n17816/17816 [==============================] - 3s 195us/step - loss: 1.0098 - accuracy: 0.5650 - val_loss: 0.9083 - val_accuracy: 0.5889\nEpoch 3/30\n17816/17816 [==============================] - 3s 196us/step - loss: 0.9308 - accuracy: 0.5860 - val_loss: 0.9231 - val_accuracy: 0.5798\nEpoch 4/30\n17816/17816 [==============================] - 3s 178us/step - loss: 0.8888 - accuracy: 0.5955 - val_loss: 0.8227 - val_accuracy: 0.5990\nEpoch 5/30\n17816/17816 [==============================] - 3s 192us/step - loss: 0.8331 - accuracy: 0.6197 - val_loss: 0.8341 - val_accuracy: 0.6237\nEpoch 6/30\n17816/17816 [==============================] - 4s 220us/step - loss: 0.7984 - accuracy: 0.6308 - val_loss: 0.6742 - val_accuracy: 0.7217\nEpoch 7/30\n17816/17816 [==============================] - 4s 213us/step - loss: 0.7485 - accuracy: 0.6723 - val_loss: 0.6856 - val_accuracy: 0.7283\nEpoch 8/30\n17816/17816 [==============================] - 4s 199us/step - loss: 0.7388 - accuracy: 0.6790 - val_loss: 0.7245 - val_accuracy: 0.6949\nEpoch 9/30\n17816/17816 [==============================] - 4s 217us/step - loss: 0.6885 - accuracy: 0.7084 - val_loss: 0.7140 - val_accuracy: 0.6859\nEpoch 10/30\n17816/17816 [==============================] - 4s 216us/step - loss: 0.6707 - accuracy: 0.7223 - val_loss: 0.5109 - val_accuracy: 0.8116\nEpoch 11/30\n17816/17816 [==============================] - 4s 247us/step - loss: 0.5374 - accuracy: 0.7895 - val_loss: 0.3166 - val_accuracy: 0.9162\nEpoch 12/30\n17816/17816 [==============================] - 3s 187us/step - loss: 0.4820 - accuracy: 0.8136 - val_loss: 0.3103 - val_accuracy: 0.8985\nEpoch 13/30\n17816/17816 [==============================] - 4s 212us/step - loss: 0.4304 - accuracy: 0.8469 - val_loss: 0.2707 - val_accuracy: 0.9187\nEpoch 14/30\n17816/17816 [==============================] - 4s 244us/step - loss: 0.3370 - accuracy: 0.8856 - val_loss: 0.3687 - val_accuracy: 0.8202\nEpoch 15/30\n17816/17816 [==============================] - 4s 207us/step - loss: 0.3480 - accuracy: 0.8802 - val_loss: 0.1824 - val_accuracy: 0.9535\nEpoch 16/30\n17816/17816 [==============================] - 4s 203us/step - loss: 0.3102 - accuracy: 0.8985 - val_loss: 0.5823 - val_accuracy: 0.7596\nEpoch 17/30\n17816/17816 [==============================] - 4s 224us/step - loss: 0.2845 - accuracy: 0.9085 - val_loss: 0.2239 - val_accuracy: 0.9232\nEpoch 18/30\n17816/17816 [==============================] - 3s 194us/step - loss: 0.2502 - accuracy: 0.9195 - val_loss: 0.1066 - val_accuracy: 0.9626\nEpoch 19/30\n17816/17816 [==============================] - 3s 188us/step - loss: 0.2391 - accuracy: 0.9207 - val_loss: 0.1521 - val_accuracy: 0.9465\nEpoch 20/30\n17816/17816 [==============================] - 3s 177us/step - loss: 0.1976 - accuracy: 0.9378 - val_loss: 0.1238 - val_accuracy: 0.9606\nEpoch 21/30\n17816/17816 [==============================] - 4s 201us/step - loss: 0.1740 - accuracy: 0.9477 - val_loss: 0.1137 - val_accuracy: 0.9677\nEpoch 22/30\n17816/17816 [==============================] - 3s 179us/step - loss: 0.1789 - accuracy: 0.9450 - val_loss: 0.1639 - val_accuracy: 0.9444\nEpoch 23/30\n17816/17816 [==============================] - 3s 181us/step - loss: 0.1451 - accuracy: 0.9549 - val_loss: 0.0739 - val_accuracy: 0.9803\nEpoch 24/30\n17816/17816 [==============================] - 4s 197us/step - loss: 0.1294 - accuracy: 0.9585 - val_loss: 0.0986 - val_accuracy: 0.9677\nEpoch 25/30\n17816/17816 [==============================] - 4s 206us/step - loss: 0.1436 - accuracy: 0.9560 - val_loss: 0.1221 - val_accuracy: 0.9702\nEpoch 26/30\n17816/17816 [==============================] - 4s 206us/step - loss: 0.1342 - accuracy: 0.9589 - val_loss: 0.0927 - val_accuracy: 0.9687\nEpoch 27/30\n17816/17816 [==============================] - 4s 219us/step - loss: 0.1139 - accuracy: 0.9641 - val_loss: 0.1104 - val_accuracy: 0.9631\nEpoch 28/30\n17816/17816 [==============================] - 4s 226us/step - loss: 0.1064 - accuracy: 0.9665 - val_loss: 0.0588 - val_accuracy: 0.9833\nEpoch 29/30\n17816/17816 [==============================] - 3s 191us/step - loss: 0.0996 - accuracy: 0.9692 - val_loss: 0.0750 - val_accuracy: 0.9803\nEpoch 30/30\n17816/17816 [==============================] - 4s 221us/step - loss: 0.0704 - accuracy: 0.9775 - val_loss: 0.0766 - val_accuracy: 0.9818\n",
          "name": "stdout"
        }
      ]
    },
    {
      "metadata": {
        "trusted": true
      },
      "cell_type": "code",
      "source": "y_pred = createLabel(model_c2.predict(x_test_c2))\nconfMatrix(y_test_c2_class, y_pred)",
      "execution_count": 239,
      "outputs": [
        {
          "output_type": "display_data",
          "data": {
            "image/png": "[encoded data removed]",
            "text/plain": "<Figure size 432x288 with 2 Axes>"
          },
          "metadata": {
            "needs_background": "light"
          }
        }
      ]
    },
    {
      "metadata": {
        "trusted": true
      },
      "cell_type": "code",
      "source": "i = 0\ni2 = 0\nsum = 0\nerr_sum = 0\npmv_data_c = []\nval = [-1, 0, 1]\nfor item in x_test_v:\n    t_item = np.reshape(item, (1, item.shape[0]))\n    scaler.fit(t_item)\n    t_item = poly.fit_transform(t_item)\n    pred = model_c2.predict(np.reshape(t_item, (1,t_item.shape[1])));\n    pred_D_temp_c = val[np.argmax(pred)] * 0.25\n    prevPMV = item[9]\n    newPMV = pmv(tdb=item[2]+pred_D_temp_c, tr=item[2]+pred_D_temp_c, vr=item[4], rh=item[3], met=1, clo=0.5)\n    pmv_data_c.append((prevPMV, newPMV, abs(prevPMV) - abs(newPMV),));\n    if( abs(prevPMV) - abs(newPMV) < 0):\n        i+=1\n        err_sum += abs(prevPMV) - abs(newPMV)\n    else:\n        i2+=1\n        sum += abs(newPMV) - abs(prevPMV) \nprint(i, (x_test.shape[0] - i) / x_test.shape[0])\nprint(sum/i2)\nprint(err_sum/i)",
      "execution_count": 240,
      "outputs": [
        {
          "output_type": "stream",
          "text": "1187 0.7602020202020202\n-0.07321415730002613\n-0.058598797320977364\n",
          "name": "stdout"
        }
      ]
    }
  ],
  "metadata": {
    "kernelspec": {
      "name": "python36",
      "display_name": "Python 3.6",
      "language": "python"
    },
    "language_info": {
      "mimetype": "text/x-python",
      "nbconvert_exporter": "python",
      "name": "python",
      "pygments_lexer": "ipython3",
      "version": "3.6.6",
      "file_extension": ".py",
      "codemirror_mode": {
        "version": 3,
        "name": "ipython"
      }
    }
  },
  "nbformat": 4,
  "nbformat_minor": 2
}